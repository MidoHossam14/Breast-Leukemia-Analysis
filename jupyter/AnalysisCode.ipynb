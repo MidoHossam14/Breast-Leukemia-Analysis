{
 "cells": [
  {
   "cell_type": "code",
   "execution_count": null,
   "id": "a00fcff9",
   "metadata": {},
   "outputs": [],
   "source": [
    "import pandas as pd"
   ]
  },
  {
   "cell_type": "code",
   "execution_count": null,
   "id": "1bca21e6",
   "metadata": {},
   "outputs": [],
   "source": [
    "pd.read_csv(r\"data\\Leukemia.csv\")\n",
    "# The above line reads a CSV file named \"Leukemia.csv\" located in the \"data\" directory.\n",
    "# Right click and copy the relative path to the file in your project directory."
   ]
  }
 ],
 "metadata": {
  "kernelspec": {
   "display_name": "Python 3",
   "language": "python",
   "name": "python3"
  },
  "language_info": {
   "name": "python",
   "version": "3.13.0"
  }
 },
 "nbformat": 4,
 "nbformat_minor": 5
}
